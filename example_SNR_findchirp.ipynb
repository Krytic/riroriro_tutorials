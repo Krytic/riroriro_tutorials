{
 "cells": [
  {
   "cell_type": "code",
   "execution_count": 1,
   "metadata": {},
   "outputs": [],
   "source": [
    "import numpy as np\n",
    "\n",
    "inputarray = np.genfromtxt('example_1.4_0.8.dat')\n",
    "findchirp_array = np.genfromtxt('example_1.4_0.8_findchirp.dat')\n",
    "\n",
    "d = 100.0"
   ]
  },
  {
   "cell_type": "code",
   "execution_count": 2,
   "metadata": {},
   "outputs": [],
   "source": [
    "from snrcalculatorfuns import *"
   ]
  },
  {
   "cell_type": "code",
   "execution_count": 3,
   "metadata": {},
   "outputs": [],
   "source": [
    "z = polynomial_redshift(d)\n",
    "inputarray = redshift_distance_adjustment(inputarray,d,z) #note self-reference"
   ]
  },
  {
   "cell_type": "code",
   "execution_count": 4,
   "metadata": {},
   "outputs": [],
   "source": [
    "freqmax, freqmin = frequency_limits(inputarray)"
   ]
  },
  {
   "cell_type": "code",
   "execution_count": 5,
   "metadata": {},
   "outputs": [],
   "source": [
    "fourieramp = findchirp_fourier(inputarray,findchirp_array,d,z)"
   ]
  },
  {
   "cell_type": "code",
   "execution_count": 6,
   "metadata": {},
   "outputs": [
    {
     "name": "stdout",
     "output_type": "stream",
     "text": [
      "Livingston SNR is 284.8, Hanford SNR is 222.6, Virgo SNR is 107.6. \n",
      "The quadrature SNR is 377.2.\n"
     ]
    }
   ],
   "source": [
    "ind_SNR = np.empty((3))\n",
    "for i in range(3): #three detectors\n",
    "    if i == 0:\n",
    "        noisearray = np.genfromtxt('noise_spectra/o3_l1.txt') #LIGO Livingston\n",
    "    elif i == 1:\n",
    "        noisearray = np.genfromtxt('noise_spectra/o3_h1.txt') #LIGO Hanford\n",
    "    elif i == 2:\n",
    "        noisearray = np.genfromtxt('noise_spectra/o3_v1.txt') #Virgo\n",
    "    #the noise spectra are not included in this repository for copyright reasons,\n",
    "    #but the ones used for this example can be found at the following link:\n",
    "    #https://dcc.ligo.org/LIGO-T1500293/public\n",
    "    \n",
    "    noise_freq_amp = amplitude_interpolation(inputarray,fourieramp,noisearray,freqmax,freqmin)\n",
    "    ind_SNR[i] = individual_detector_SNR(noisearray,noise_freq_amp)\n",
    "\n",
    "quad_SNR = np.sqrt(ind_SNR[0]**2 + ind_SNR[1]**2 + ind_SNR[2]**2)\n",
    "\n",
    "print(\"Livingston SNR is %.1f, Hanford SNR is %.1f, Virgo SNR is %.1f. \\n\"\n",
    "     \"The quadrature SNR is %.1f.\" % (ind_SNR[0],ind_SNR[1],ind_SNR[2],quad_SNR))"
   ]
  },
  {
   "cell_type": "code",
   "execution_count": null,
   "metadata": {},
   "outputs": [],
   "source": []
  }
 ],
 "metadata": {
  "kernelspec": {
   "display_name": "Python 3",
   "language": "python",
   "name": "python3"
  },
  "language_info": {
   "codemirror_mode": {
    "name": "ipython",
    "version": 3
   },
   "file_extension": ".py",
   "mimetype": "text/x-python",
   "name": "python",
   "nbconvert_exporter": "python",
   "pygments_lexer": "ipython3",
   "version": "3.8.3"
  }
 },
 "nbformat": 4,
 "nbformat_minor": 4
}
