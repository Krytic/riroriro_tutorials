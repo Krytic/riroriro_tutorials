{
 "cells": [
  {
   "cell_type": "code",
   "execution_count": 1,
   "metadata": {},
   "outputs": [],
   "source": [
    "import numpy as np"
   ]
  },
  {
   "cell_type": "code",
   "execution_count": 2,
   "metadata": {},
   "outputs": [],
   "source": [
    "inputarray = np.genfromtxt('example_1.4_0.8.dat')\n",
    "findchirp_array = np.genfromtxt('example_1.4_0.8_findchirp.dat')"
   ]
  },
  {
   "cell_type": "code",
   "execution_count": 3,
   "metadata": {},
   "outputs": [],
   "source": [
    "noise_l = np.genfromtxt('noise_spectra/o3_l1.txt') #LIGO Livingston\n",
    "noise_h = np.genfromtxt('noise_spectra/o3_h1.txt') #LIGO Hanford\n",
    "noise_v = np.genfromtxt('noise_spectra/o3_v1.txt') #Virgo\n",
    "\n",
    "noisearray_list = [noise_l,noise_h,noise_v]"
   ]
  },
  {
   "cell_type": "code",
   "execution_count": 4,
   "metadata": {},
   "outputs": [],
   "source": [
    "import horizondistfuns as hor"
   ]
  },
  {
   "cell_type": "code",
   "execution_count": 6,
   "metadata": {},
   "outputs": [
    {
     "name": "stdout",
     "output_type": "stream",
     "text": [
      "The quadrature horizon distance is 2876.5 Mpc.\n",
      "The mean-of-individual horizon distance is 1817.4 Mpc.\n"
     ]
    }
   ],
   "source": [
    "quad_dist = hor.horizon_distance_calculation(inputarray,findchirp_array,noisearray_list,'quad')\n",
    "mean_dist = hor.horizon_distance_calculation(inputarray,findchirp_array,noisearray_list,'mean')\n",
    "\n",
    "print(\"The quadrature horizon distance is %.1f Mpc.\\n\"\n",
    "     \"The mean-of-individual horizon distance is %.1f Mpc.\" % (quad_dist,mean_dist))"
   ]
  },
  {
   "cell_type": "code",
   "execution_count": null,
   "metadata": {},
   "outputs": [],
   "source": []
  }
 ],
 "metadata": {
  "kernelspec": {
   "display_name": "Python 3",
   "language": "python",
   "name": "python3"
  },
  "language_info": {
   "codemirror_mode": {
    "name": "ipython",
    "version": 3
   },
   "file_extension": ".py",
   "mimetype": "text/x-python",
   "name": "python",
   "nbconvert_exporter": "python",
   "pygments_lexer": "ipython3",
   "version": "3.8.3"
  }
 },
 "nbformat": 4,
 "nbformat_minor": 4
}
