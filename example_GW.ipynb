{
 "cells": [
  {
   "cell_type": "code",
   "execution_count": 1,
   "metadata": {},
   "outputs": [],
   "source": [
    "import numpy as np\n",
    "\n",
    "from inspiralfuns import *"
   ]
  },
  {
   "cell_type": "code",
   "execution_count": 2,
   "metadata": {},
   "outputs": [],
   "source": [
    "#GW150914-like\n",
    "logMc=1.4\n",
    "q=0.8\n",
    "\n",
    "#defaults\n",
    "flow=10.0\n",
    "merger_type='BH'\n",
    "D=100.0\n",
    "\n",
    "M, eta = get_M_and_eta(logMc=logMc,q=q)\n",
    "start_x = startx(M,flow)\n",
    "end_x = endx(eta,merger_type)"
   ]
  },
  {
   "cell_type": "code",
   "execution_count": 3,
   "metadata": {
    "scrolled": true
   },
   "outputs": [],
   "source": [
    "x, xtimes, dt = x_integration(start_x,end_x,M,eta)"
   ]
  },
  {
   "cell_type": "code",
   "execution_count": 4,
   "metadata": {},
   "outputs": [],
   "source": [
    "realtimes = inspiral_time_conversion(xtimes,M)"
   ]
  },
  {
   "cell_type": "code",
   "execution_count": 5,
   "metadata": {},
   "outputs": [],
   "source": [
    "i_phase, omega, freq = inspiral_phase_freq_integration(x,dt,M)"
   ]
  },
  {
   "cell_type": "code",
   "execution_count": 6,
   "metadata": {},
   "outputs": [],
   "source": [
    "r, rdot = radius_calculation(x,M,eta)"
   ]
  },
  {
   "cell_type": "code",
   "execution_count": 7,
   "metadata": {},
   "outputs": [],
   "source": [
    "A1, A2 = a1_a2_calculation(r,rdot,omega,D,M,eta)"
   ]
  },
  {
   "cell_type": "code",
   "execution_count": 8,
   "metadata": {},
   "outputs": [],
   "source": [
    "Aorth, Adiag = inspiral_strain_polarisations(A1,A2,i_phase)"
   ]
  },
  {
   "cell_type": "code",
   "execution_count": 9,
   "metadata": {},
   "outputs": [],
   "source": [
    "i_amp = inspiral_strain_amplitude(Aorth,Adiag)"
   ]
  },
  {
   "cell_type": "code",
   "execution_count": 31,
   "metadata": {},
   "outputs": [],
   "source": [
    "import matplotlib.pyplot as plt"
   ]
  },
  {
   "cell_type": "code",
   "execution_count": 27,
   "metadata": {
    "scrolled": true
   },
   "outputs": [
    {
     "data": {
      "text/plain": [
       "\"\\nimport matplotlib.pyplot as plt\\n\\nplt.figure(1)\\nplt.plot(realtimes,i_amp)\\nplt.xlabel('Time (s)')\\nplt.ylabel('Strain amplitude')\\n\\nplt.figure(2)\\nplt.plot(freq,i_amp)\\nplt.xlabel('Frequency (Hz)')\\nplt.ylabel('Strain amplitude')\\n\""
      ]
     },
     "execution_count": 27,
     "metadata": {},
     "output_type": "execute_result"
    }
   ],
   "source": [
    "\"\"\"\n",
    "plt.figure(1)\n",
    "plt.plot(realtimes,i_amp)\n",
    "plt.xlabel('Time (s)')\n",
    "plt.ylabel('Strain amplitude')\n",
    "\n",
    "plt.figure(2)\n",
    "plt.plot(freq,i_amp)\n",
    "plt.xlabel('Frequency (Hz)')\n",
    "plt.ylabel('Strain amplitude')\n",
    "\"\"\""
   ]
  },
  {
   "cell_type": "code",
   "execution_count": 28,
   "metadata": {},
   "outputs": [
    {
     "data": {
      "text/plain": [
       "\"\\nplt.figure(1)\\nplt.plot(realtimes,Aorth)\\nplt.plot(realtimes,Adiag)\\nplt.xlabel('Time (s)')\\nplt.ylabel('Strain polarisations')\\n\""
      ]
     },
     "execution_count": 28,
     "metadata": {},
     "output_type": "execute_result"
    }
   ],
   "source": [
    "\"\"\"\n",
    "plt.figure(1)\n",
    "plt.plot(realtimes,Aorth)\n",
    "plt.plot(realtimes,Adiag)\n",
    "plt.xlabel('Time (s)')\n",
    "plt.ylabel('Strain polarisations')\n",
    "\"\"\""
   ]
  },
  {
   "cell_type": "code",
   "execution_count": 11,
   "metadata": {},
   "outputs": [],
   "source": [
    "i_time = list_size_reducer(100,realtimes)\n",
    "i_omega = list_size_reducer(100,omega)\n",
    "i_phase = list_size_reducer(100,i_phase)\n",
    "i_amp = list_size_reducer(100,i_amp)"
   ]
  },
  {
   "cell_type": "code",
   "execution_count": 12,
   "metadata": {},
   "outputs": [],
   "source": [
    "from mergerfirstfuns import *"
   ]
  },
  {
   "cell_type": "code",
   "execution_count": 13,
   "metadata": {},
   "outputs": [],
   "source": [
    "sfin, wqnm = quasi_normal_modes(eta)\n",
    "alpha, b, C, kappa = gIRS_coefficients(eta,sfin)"
   ]
  },
  {
   "cell_type": "code",
   "execution_count": 14,
   "metadata": {},
   "outputs": [],
   "source": [
    "fhat, m_omega = merger_freq_calculation(wqnm,b,C,kappa)"
   ]
  },
  {
   "cell_type": "code",
   "execution_count": 15,
   "metadata": {},
   "outputs": [],
   "source": [
    "fhatdot = fhat_differentiation(fhat)"
   ]
  },
  {
   "cell_type": "code",
   "execution_count": 16,
   "metadata": {},
   "outputs": [],
   "source": [
    "m_time = merger_time_conversion(M)"
   ]
  },
  {
   "cell_type": "code",
   "execution_count": 17,
   "metadata": {},
   "outputs": [],
   "source": [
    "from matchingfuns import *"
   ]
  },
  {
   "cell_type": "code",
   "execution_count": 18,
   "metadata": {},
   "outputs": [],
   "source": [
    "min_switch_ind = min_switch_ind_finder(i_time,i_omega,m_time,m_omega)"
   ]
  },
  {
   "cell_type": "code",
   "execution_count": 19,
   "metadata": {},
   "outputs": [],
   "source": [
    "final_i_index = final_i_index_finder(min_switch_ind,i_omega,m_omega)\n",
    "time_offset = time_offset_finder(min_switch_ind,final_i_index,i_time,m_time)"
   ]
  },
  {
   "cell_type": "code",
   "execution_count": 20,
   "metadata": {},
   "outputs": [],
   "source": [
    "i_m_time, i_m_omega = time_frequency_stitching(min_switch_ind,final_i_index,time_offset,i_time,i_omega,m_time,m_omega)"
   ]
  },
  {
   "cell_type": "code",
   "execution_count": 22,
   "metadata": {},
   "outputs": [],
   "source": [
    "i_m_freq = frequency_SI_units(i_m_omega,M)"
   ]
  },
  {
   "cell_type": "code",
   "execution_count": 23,
   "metadata": {},
   "outputs": [],
   "source": [
    "from mergersecondfuns import *"
   ]
  },
  {
   "cell_type": "code",
   "execution_count": 24,
   "metadata": {},
   "outputs": [],
   "source": [
    "m_phase = merger_phase_calculation(min_switch_ind,final_i_index,i_phase,m_omega)"
   ]
  },
  {
   "cell_type": "code",
   "execution_count": 25,
   "metadata": {},
   "outputs": [],
   "source": [
    "i_m_phase = phase_stitching(final_i_index,i_phase,m_phase)"
   ]
  },
  {
   "cell_type": "code",
   "execution_count": 29,
   "metadata": {},
   "outputs": [],
   "source": [
    "m_amp = merger_strain_amplitude(min_switch_ind,final_i_index,alpha,i_amp,m_omega,fhat,fhatdot)"
   ]
  },
  {
   "cell_type": "code",
   "execution_count": 30,
   "metadata": {},
   "outputs": [],
   "source": [
    "i_m_amp = amplitude_stitching(final_i_index,i_amp,m_amp)"
   ]
  },
  {
   "cell_type": "code",
   "execution_count": 32,
   "metadata": {},
   "outputs": [
    {
     "data": {
      "text/plain": [
       "Text(0, 0.5, 'Strain amplitude')"
      ]
     },
     "execution_count": 32,
     "metadata": {},
     "output_type": "execute_result"
    },
    {
     "data": {
      "image/png": "[encoded data removed]",
      "text/plain": [
       "<Figure size 432x288 with 1 Axes>"
      ]
     },
     "metadata": {
      "needs_background": "light"
     },
     "output_type": "display_data"
    },
    {
     "data": {
      "image/png": "[encoded data removed]",
      "text/plain": [
       "<Figure size 432x288 with 1 Axes>"
      ]
     },
     "metadata": {
      "needs_background": "light"
     },
     "output_type": "display_data"
    }
   ],
   "source": [
    "plt.figure(1)\n",
    "plt.plot(i_m_time,i_m_amp)\n",
    "plt.xlabel('Time (s)')\n",
    "plt.ylabel('Strain amplitude')\n",
    "\n",
    "plt.figure(2)\n",
    "plt.plot(i_m_time,i_m_freq)\n",
    "plt.xlabel('Time (s)')\n",
    "plt.ylabel('Strain amplitude')"
   ]
  },
  {
   "cell_type": "code",
   "execution_count": null,
   "metadata": {},
   "outputs": [],
   "source": []
  }
 ],
 "metadata": {
  "kernelspec": {
   "display_name": "Python 3",
   "language": "python",
   "name": "python3"
  },
  "language_info": {
   "codemirror_mode": {
    "name": "ipython",
    "version": 3
   },
   "file_extension": ".py",
   "mimetype": "text/x-python",
   "name": "python",
   "nbconvert_exporter": "python",
   "pygments_lexer": "ipython3",
   "version": "3.8.3"
  }
 },
 "nbformat": 4,
 "nbformat_minor": 4
}
